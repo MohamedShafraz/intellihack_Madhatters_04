{
  "cells": [
    {
      "cell_type": "markdown",
      "metadata": {
        "id": "d1U_r-S0OIJQ"
      },
      "source": []
    },
    {
      "cell_type": "markdown",
      "metadata": {
        "id": "0Egy64VU2mzn"
      },
      "source": [
        "# 1. Setup Environment\n"
      ]
    },
    {
      "cell_type": "code",
      "execution_count": null,
      "metadata": {
        "colab": {
          "base_uri": "https://localhost:8080/",
          "height": 1000
        },
        "id": "uReQaBD01Hsc",
        "outputId": "e5ae458c-23ab-4fe1-8320-00bf41359bdd"
      },
      "outputs": [],
      "source": [
        "! pip install \"unsloth[colab-new] @ git+https://github.com/unslothai/unsloth.git\"\n",
        "! pip install --no-deps xformers \"trl<0.9.0\" peft accelerate bitsandbytes"
      ]
    },
    {
      "cell_type": "code",
      "execution_count": null,
      "metadata": {
        "colab": {
          "base_uri": "https://localhost:8080/"
        },
        "id": "kg77Jusc2QHg",
        "outputId": "924ca3be-5c50-49d5-8e85-e87987896ded"
      },
      "outputs": [],
      "source": [
        "from google.colab import drive\n",
        "drive.mount('/content/drive')"
      ]
    },
    {
      "cell_type": "markdown",
      "metadata": {
        "id": "qx0d-yaF2znK"
      },
      "source": [
        "## 1. Load and Prepare Training model\n"
      ]
    },
    {
      "cell_type": "code",
      "execution_count": null,
      "metadata": {
        "id": "vG2JayAeOsb2"
      },
      "outputs": [],
      "source": [
        "from unsloth import FastLanguageModel\n",
        "import torch\n",
        "from google.colab import userdata\n",
        "\n",
        "max_seq_length = 2048\n",
        "dtype = None\n",
        "load_in_4bit=True"
      ]
    },
    {
      "cell_type": "code",
      "execution_count": null,
      "metadata": {
        "colab": {
          "base_uri": "https://localhost:8080/"
        },
        "id": "11i2EJuzQalt",
        "outputId": "4423597b-2be6-4cfd-8a79-4a562711cd8c"
      },
      "outputs": [],
      "source": [
        "model, tokenizer = FastLanguageModel.from_pretrained(\n",
        "    \"Qwen/Qwen2.5-3B-Instruct\",\n",
        "    dtype=dtype,\n",
        "    load_in_4bit=load_in_4bit,\n",
        "    token = userdata.get('HUGGINGFACE_TOKEN')\n",
        ")"
      ]
    },
    {
      "cell_type": "markdown",
      "metadata": {
        "id": "TlPUrcifQODe"
      },
      "source": [
        "# 2. Prepare the data set"
      ]
    },
    {
      "cell_type": "code",
      "execution_count": null,
      "metadata": {
        "id": "z_LQSUfF27lE"
      },
      "outputs": [],
      "source": [
        "from IPython.display import clear_output"
      ]
    },
    {
      "cell_type": "code",
      "execution_count": null,
      "metadata": {
        "colab": {
          "base_uri": "https://localhost:8080/",
          "height": 125
        },
        "id": "9yYQ6Mg_27O4",
        "outputId": "7eb44fc6-a081-4cb9-be95-cd9046354da1"
      },
      "outputs": [],
      "source": [
        "print(\"Please upload research documents (.md/.pdf):\")\n",
        "from google.colab import files\n",
        "uploaded = files.upload()"
      ]
    },
    {
      "cell_type": "code",
      "execution_count": null,
      "metadata": {
        "colab": {
          "base_uri": "https://localhost:8080/"
        },
        "id": "vnh7HpAQijkE",
        "outputId": "e1d72cf9-3a9e-4ec5-f6d0-e14bcdeda80d"
      },
      "outputs": [],
      "source": [
        "print(uploaded)"
      ]
    },
    {
      "cell_type": "code",
      "execution_count": null,
      "metadata": {
        "id": "s0_x7wasf6m8"
      },
      "outputs": [],
      "source": [
        "! pip install -qU langchain_community pypdf"
      ]
    },
    {
      "cell_type": "code",
      "execution_count": null,
      "metadata": {
        "id": "e1Ge2ECrge8j"
      },
      "outputs": [],
      "source": [
        "! pip install -qU langchain-text-splitters"
      ]
    },
    {
      "cell_type": "code",
      "execution_count": null,
      "metadata": {
        "colab": {
          "base_uri": "https://localhost:8080/"
        },
        "id": "0lWl6tv54oE6",
        "outputId": "a49ebfb4-4201-4374-eae1-9909bd32d8e4"
      },
      "outputs": [],
      "source": [
        "! pip install -q pypdf langchain\n",
        "! pip install -U langchain-community"
      ]
    },
    {
      "cell_type": "code",
      "execution_count": null,
      "metadata": {
        "id": "JhNyxvcp5CBy"
      },
      "outputs": [],
      "source": [
        "from langchain_community.document_loaders import PyPDFLoader,TextLoader\n",
        "from langchain_text_splitters import RecursiveCharacterTextSplitter\n",
        "def process_uploaded_files(uploaded_files):\n",
        "    documents = []\n",
        "    for filename in uploaded_files:\n",
        "        if filename.endswith('.pdf'):\n",
        "            loader = PyPDFLoader(filename)\n",
        "        else:\n",
        "            loader = TextLoader(filename)\n",
        "        docs = loader.load()\n",
        "        text_splitter = RecursiveCharacterTextSplitter(\n",
        "            chunk_size=2000,\n",
        "            chunk_overlap=200\n",
        "        )\n",
        "        documents.extend(text_splitter.split_documents(docs))\n",
        "    return documents\n",
        "\n",
        "processed_docs = process_uploaded_files(uploaded.keys())"
      ]
    },
    {
      "cell_type": "code",
      "execution_count": null,
      "metadata": {
        "colab": {
          "base_uri": "https://localhost:8080/"
        },
        "id": "LdlRokhRmXVv",
        "outputId": "99b1f52d-f016-49db-93b4-ca1949a7f99b"
      },
      "outputs": [],
      "source": [
        "print(processed_docs)"
      ]
    },
    {
      "cell_type": "code",
      "execution_count": null,
      "metadata": {
        "colab": {
          "base_uri": "https://localhost:8080/"
        },
        "id": "1f1Km6MVmdGo",
        "outputId": "37e25fd1-efd6-4aa7-9e95-2382ccc421b8"
      },
      "outputs": [],
      "source": [
        "import re\n",
        "import json\n",
        "from transformers import pipeline\n",
        "from datasets import Dataset\n",
        "\n",
        "# Import loaders and splitter\n",
        "from langchain.document_loaders import PyPDFLoader, TextLoader\n",
        "from langchain.text_splitter import RecursiveCharacterTextSplitter\n",
        "\n",
        "def clean_markdown(text):\n",
        "    \"\"\"\n",
        "    Remove common markdown formatting from text.\n",
        "    \"\"\"\n",
        "    # Remove markdown headers (e.g., # Header, ## Subheader)\n",
        "    text = re.sub(r'#+\\s+', '', text)\n",
        "    # Remove tables\n",
        "    text = re.sub(r'\\|.*\\|\\n(\\|[-:]+)+\\n', '', text)  # Removes table headers\n",
        "    text = re.sub(r'\\|.*\\|\\n', '', text)  # Removes table rows\n",
        "    # Remove inline code formatting (`code`)\n",
        "    text = re.sub(r'`([^`]*)`', r'\\1', text)\n",
        "    # Remove multiline code blocks (```)\n",
        "    text = re.sub(r'```[\\s\\S]*?```', '', text)\n",
        "    # Remove extra newlines\n",
        "    text = re.sub(r'\\n{2,}', '\\n', text)\n",
        "    # Remove bullet points (-, *, etc.)\n",
        "    text = re.sub(r'^\\s*[-*]\\s+', '', text, flags=re.MULTILINE)\n",
        "    return text.strip()\n",
        "\n",
        "def process_uploaded_files(uploaded_files):\n",
        "    \"\"\"\n",
        "    Load documents from a list of file names, clean markdown content if needed,\n",
        "    and split them into smaller chunks.\n",
        "    \"\"\"\n",
        "    documents = []\n",
        "    for filename in uploaded_files:\n",
        "        # Choose the appropriate loader based on file extension\n",
        "        if filename.endswith('.pdf'):\n",
        "            loader = PyPDFLoader(filename)\n",
        "        else:\n",
        "            loader = TextLoader(filename)\n",
        "        docs = loader.load()\n",
        "\n",
        "        # If file is markdown, clean its content\n",
        "        if filename.endswith('.md'):\n",
        "            for doc in docs:\n",
        "                doc.page_content = clean_markdown(doc.page_content)\n",
        "\n",
        "        # Split documents into smaller chunks for processing\n",
        "        text_splitter = RecursiveCharacterTextSplitter(\n",
        "            chunk_size=2000,\n",
        "            chunk_overlap=200\n",
        "        )\n",
        "        documents.extend(text_splitter.split_documents(docs))\n",
        "    return documents\n",
        "\n",
        "# 'uploaded' is assumed to be a dictionary-like object with filenames as keys.\n",
        "processed_docs = process_uploaded_files(uploaded.keys())\n",
        "print(processed_docs)\n"
      ]
    },
    {
      "cell_type": "code",
      "execution_count": null,
      "metadata": {
        "id": "4f6ojVtKVKc8"
      },
      "outputs": [],
      "source": [
        "from datasets import Dataset\n",
        "import random\n",
        "from sklearn.model_selection import train_test_split\n",
        "\n",
        "def generate_qa_pairs(text_chunks):\n",
        "    qa_pairs = []\n",
        "    for chunk in text_chunks:\n",
        "        # Simple synthetic Q&A generation (enhance with LLM in production)\n",
        "        questions = [\n",
        "            (\"What is the main purpose of 3FS?\", \"3FS is a high-performance distributed file system designed for AI workloads.\"),\n",
        "            (\"How does DeepSeek-V3 achieve efficient training?\", \"Through DualPipe pipeline parallelism and FP8 mixed precision training.\")\n",
        "        ]\n",
        "        qa_pairs.extend(questions)\n",
        "    return qa_pairs\n",
        "\n",
        "# Load and parse provided documents\n",
        "text_chunks = []\n",
        "for file in [\"design-notes-3fs.md\", \"deepseekv3-explained.md\"]:\n",
        "    with open(file, \"r\") as f:\n",
        "        text = f.read()\n",
        "        text_chunks.extend(text.split(\"\\n\\n\"))  # Simple chunking\n",
        "\n",
        "# Generate synthetic dataset\n",
        "qa_pairs = generate_qa_pairs(text_chunks)\n",
        "dataset = Dataset.from_dict({\n",
        "    \"question\": [q for q, a in qa_pairs],\n",
        "    \"answer\": [a for q, a in qa_pairs]\n",
        "})\n",
        "train_test = dataset.train_test_split(test_size=0.2)\n",
        "train_data = train_test[\"train\"]\n",
        "val_data = train_test[\"test\"]"
      ]
    },
    {
      "cell_type": "code",
      "execution_count": null,
      "metadata": {
        "colab": {
          "base_uri": "https://localhost:8080/"
        },
        "id": "xJrZtKUag8ua",
        "outputId": "15e16902-f75a-4576-8e2f-7b4efbb7f690"
      },
      "outputs": [],
      "source": [
        "print(val_data.to_pandas())"
      ]
    },
    {
      "cell_type": "markdown",
      "metadata": {
        "id": "eCEPpUVwdAgD"
      },
      "source": [
        "# 3. Fine-tune with QLoRA"
      ]
    },
    {
      "cell_type": "code",
      "execution_count": null,
      "metadata": {
        "id": "kri5EwiqsJZ8"
      },
      "outputs": [],
      "source": [
        "! pip install -q peft\n",
        "! pip install -q bitsandbytes\n",
        "! pip install -q transformers accelerate"
      ]
    },
    {
      "cell_type": "code",
      "execution_count": null,
      "metadata": {
        "colab": {
          "base_uri": "https://localhost:8080/",
          "height": 419
        },
        "id": "15wb6XWyuiO0",
        "outputId": "1b00f9a1-f259-4c5d-b36a-dc24fa6b1182"
      },
      "outputs": [],
      "source": [
        "import torch\n",
        "\n",
        "# Check if CUDA is available and move the model to GPU\n",
        "if torch.cuda.is_available():\n",
        "    model = model.to(\"cuda\")\n",
        "    print(\"Model moved to CUDA.\")\n",
        "else:\n",
        "    raise EnvironmentError(\"CUDA is not available. Please ensure you have a CUDA-enabled GPU.\")\n",
        "\n",
        "# torch.set_default_tensor_type(torch.cuda.FloatTensor)"
      ]
    },
    {
      "cell_type": "code",
      "execution_count": null,
      "metadata": {
        "colab": {
          "base_uri": "https://localhost:8080/",
          "height": 619
        },
        "id": "ft_QzpBbulmA",
        "outputId": "d4d490ab-0230-4d05-988f-d6339e59dd4d"
      },
      "outputs": [],
      "source": [
        "! export PYTORCH_CUDA_ALLOC_CONF=expandable_segments:True\n",
        "! pip install --upgrade transformers\n"
      ]
    },
    {
      "cell_type": "code",
      "execution_count": null,
      "metadata": {
        "colab": {
          "base_uri": "https://localhost:8080/"
        },
        "id": "B65AkrGWuoo7",
        "outputId": "70c7ab6c-b784-4f10-f9e1-c69bcd514eac"
      },
      "outputs": [
        {
          "name": "stdout",
          "output_type": "stream",
          "text": [
            "expandable_segments:True\n"
          ]
        }
      ],
      "source": [
        "import os\n",
        "os.environ[\"PYTORCH_CUDA_ALLOC_CONF\"] = \"expandable_segments:True\"\n",
        "x = os.environ.get(\"PYTORCH_CUDA_ALLOC_CONF\")\n",
        "print(x)"
      ]
    },
    {
      "cell_type": "code",
      "execution_count": null,
      "metadata": {
        "colab": {
          "base_uri": "https://localhost:8080/",
          "height": 663,
          "referenced_widgets": [
            "32b5d5e41b924cdcb43a3ef6cedffc95",
            "342e8f3bc77f40a080d91e5feb198126",
            "ebaaa03fc47e4ae0883741b90b5ed560",
            "8f380109989b48acb79aafc2add4aee0",
            "25385078933547e9a20918fea1840f92",
            "b68e6ad4ffbc474f810da50d9dad5d77",
            "87d99c3e5a444f4c907c3b3167133901",
            "4d6395b04b00418b9dedb0e0f8f04f06",
            "7503bc9a466d425684b2ba7511a813a0",
            "2a9c8c88bb05452d84991682af1552b4",
            "164ec06770f4495393943dab5155d55d",
            "a4db1bf6812b4371a0635d92761c4c31",
            "636877c52dc6411abb6f8745a715aefe",
            "d4274c84869744aab93fd33c4e377c2e",
            "75eddbe7ee974a23869197fc648a2796",
            "ff389709a9a44465a5d95933e2c745f4",
            "238138bc900c407387abaa6469bb713e",
            "dd990ccc5993462a96d8342a7b1943c3",
            "aa832535d8b749bda627031f09a7a0cf",
            "f95224f207b64295820399829160d643",
            "4237f5e8fbd04c9992a7943e14986faf",
            "6f343f9481974110b3b9a54dba3aa038",
            "9260359d3ddd494c9b0d37171f792e7e",
            "7926638b6aa14ddf9ce77f7fb73dc599",
            "720da530aad04412b208ac806fb75793",
            "8014597f21f041a0aefad9c1dd20f954",
            "ddc8c06d97d04773886b7aa2377197d3",
            "43ca0d58d10e4f6cb5aea5f5ab6ad2c8",
            "5bb970d088ad4ec1aa913eb37bdd8a64",
            "c2e93929ea2545f584ecb31f13c5b98f",
            "ce8547a518984f1f9fa7bf510e18e8dc",
            "899b360c1dbb4853ac82c14c026a0200",
            "bceab5ba892245e5aedd739b9e352396"
          ]
        },
        "id": "c3QPx2nidHXn",
        "outputId": "93d17b36-5888-4ee2-cac8-9abd6c602b3b"
      },
      "outputs": [],
      "source": [
        "from transformers import AutoTokenizer, AutoModelForCausalLM, TrainingArguments, DataCollatorForLanguageModeling, Trainer\n",
        "from peft import LoraConfig, get_peft_model\n",
        "import torch\n",
        "\n",
        "model_id = \"Qwen/Qwen2.5-3B-Instruct\"\n",
        "tokenizer = AutoTokenizer.from_pretrained(model_id)\n",
        "model = AutoModelForCausalLM.from_pretrained(\n",
        "    model_id,\n",
        "    torch_dtype=torch.float16,\n",
        "    device_map=\"auto\"\n",
        ")\n",
        "\n",
        "# LoRA Configuration\n",
        "peft_config = LoraConfig(\n",
        "    r=8,\n",
        "    lora_alpha=32,\n",
        "    target_modules=[\"q_proj\", \"k_proj\", \"v_proj\", \"o_proj\", \"gate_proj\", \"up_proj\", \"down_proj\"],\n",
        "    lora_dropout=0.05,\n",
        "    bias=\"none\",\n",
        "    task_type=\"CAUSAL_LM\"\n",
        ")\n",
        "model = get_peft_model(model, peft_config)\n",
        "\n",
        "# Fixed Training Arguments with data seeding and disabled generation during evaluation\n",
        "training_args = TrainingArguments(\n",
        "    output_dir=\"./results\",\n",
        "    per_device_train_batch_size=2,\n",
        "    gradient_accumulation_steps=4,\n",
        "    learning_rate=2e-5,\n",
        "    num_train_epochs=3,\n",
        "    fp16=True,\n",
        "    logging_steps=10,\n",
        "    evaluation_strategy=\"steps\",\n",
        "    eval_steps=50,\n",
        "    save_strategy=\"epoch\",\n",
        "    remove_unused_columns=False,\n",
        "    seed=42,           # Explicit seeding\n",
        "    data_seed=42,      # Data-specific seeding\n",
        "    dataloader_pin_memory=False,  # Disable generation during evaluation to prevent CUDA generator errors\n",
        ")\n",
        "\n",
        "# Data Collator\n",
        "data_collator = DataCollatorForLanguageModeling(\n",
        "    tokenizer=tokenizer,\n",
        "    mlm=False\n",
        ")\n",
        "\n",
        "def format_qa_prompt(example):\n",
        "    prompt = f\"<|im_start|>user\\n{example['question']}<|im_end|>\\n<|im_start|>assistant\\n{example['answer']}<|im_end|>\"\n",
        "    # Tokenize the prompt to get input_ids and attention_mask\n",
        "    encoding = tokenizer(\n",
        "        prompt,\n",
        "        truncation=True,\n",
        "        padding=\"max_length\",\n",
        "        max_length=tokenizer.model_max_length\n",
        "    )\n",
        "    # For causal LM training, you can set labels equal to input_ids\n",
        "    encoding[\"labels\"] = encoding[\"input_ids\"].copy()\n",
        "    return encoding\n",
        "\n",
        "\n",
        "train_dataset = train_data.map(format_qa_prompt, remove_columns=train_data.column_names)\n",
        "val_dataset = val_data.map(format_qa_prompt, remove_columns=val_data.column_names)\n",
        "\n",
        "\n",
        "trainer = Trainer(\n",
        "    model=model,\n",
        "    args=training_args,\n",
        "    train_dataset=train_dataset,\n",
        "    eval_dataset=val_dataset,\n",
        "    tokenizer=tokenizer,\n",
        "    data_collator=data_collator\n",
        ")\n",
        "\n",
        "# Ensure we call the function to check CUDA availability\n",
        "if torch.cuda.is_available():\n",
        "    trainer.train()\n",
        "else:\n",
        "    raise EnvironmentError(\"CUDA is not available. Please check your GPU configuration.\")\n"
      ]
    },
    {
      "cell_type": "code",
      "execution_count": null,
      "metadata": {
        "colab": {
          "base_uri": "https://localhost:8080/",
          "height": 529
        },
        "id": "-uXqthPK5dXy",
        "outputId": "cd70be70-47ef-4516-a349-80e02153988c"
      },
      "outputs": [],
      "source": [
        "from transformers import pipeline\n",
        "qa_generator = pipeline('text2text-generation', model='microsoft/prophetnet-large-uncased')\n",
        "\n",
        "def generate_qa_pairs(text):\n",
        "    return qa_generator(\n",
        "        f\"Generate a question and answer from this text: {text}\",\n",
        "        max_length=256,\n",
        "        num_return_sequences=2\n",
        "    )\n"
      ]
    },
    {
      "cell_type": "code",
      "execution_count": null,
      "metadata": {
        "colab": {
          "base_uri": "https://localhost:8080/"
        },
        "id": "qL3YEH6w6A1p",
        "outputId": "8da1d993-d1b6-48ee-cd99-549a8b814fec"
      },
      "outputs": [
        {
          "name": "stdout",
          "output_type": "stream",
          "text": [
            "/bin/bash: line 1: nvidia-smi: command not found\n"
          ]
        }
      ],
      "source": [
        "!nvidia-smi"
      ]
    },
    {
      "cell_type": "code",
      "execution_count": null,
      "metadata": {
        "colab": {
          "base_uri": "https://localhost:8080/"
        },
        "id": "xdWXxP-CF7kh",
        "outputId": "22bdbcb4-4cc1-40db-a2c3-e407b9180903"
      },
      "outputs": [],
      "source": [
        "! pip uninstall -y bitsandbytes\n",
        "! pip install -U bitsandbytes"
      ]
    },
    {
      "cell_type": "code",
      "execution_count": null,
      "metadata": {
        "id": "055uBlEC665i"
      },
      "outputs": [],
      "source": [
        "model_id = \"Qwen/Qwen2.5-3B-Instruct\"\n",
        "bnb_config = BitsAndBytesConfig(\n",
        "    load_in_4bit=True,\n",
        "    bnb_4bit_quant_type=\"nf4\",\n",
        "    bnb_4bit_compute_dtype=\"float16\",\n",
        "    bnb_4bit_use_double_quant=True\n",
        ")"
      ]
    },
    {
      "cell_type": "code",
      "execution_count": null,
      "metadata": {
        "colab": {
          "base_uri": "https://localhost:8080/",
          "height": 1000
        },
        "id": "Kgm9am6wGcdR",
        "outputId": "431df878-5b78-4040-e26f-883d5e3d4423"
      },
      "outputs": [],
      "source": [
        "# Note, if you don't want to reinstall BNBs dependencies, append the `--no-deps` flag!\n",
        "! pip install --force-reinstall 'https://github.com/bitsandbytes-foundation/bitsandbytes/releases/download/continuous-release_multi-backend-refactor/bitsandbytes-0.44.1.dev0-py3-none-manylinux_2_24_x86_64.whl'"
      ]
    },
    {
      "cell_type": "code",
      "execution_count": null,
      "metadata": {
        "colab": {
          "base_uri": "https://localhost:8080/",
          "height": 529
        },
        "id": "pv883wZ-HwbK",
        "outputId": "4e62afc1-596d-4792-8f47-d7178b68b27d"
      },
      "outputs": [],
      "source": [
        "from transformers import (\n",
        "    AutoTokenizer,\n",
        "    AutoModelForCausalLM,\n",
        "    BitsAndBytesConfig,\n",
        "    TrainingArguments\n",
        ")\n",
        "from peft import LoraConfig\n",
        "from trl import SFTTrainer\n",
        "import torch\n",
        "from transformers import BitsAndBytesConfig"
      ]
    },
    {
      "cell_type": "code",
      "execution_count": null,
      "metadata": {
        "colab": {
          "base_uri": "https://localhost:8080/",
          "height": 211
        },
        "id": "wqxZ-LcH7ISQ",
        "outputId": "97e8e335-f1df-4c3d-be40-77bba4155dc1"
      },
      "outputs": [],
      "source": [
        "peft_config = LoraConfig(\n",
        "    r=16,\n",
        "    lora_alpha=32,\n",
        "    target_modules=[\"c_attn\", \"c_proj\", \"w1\", \"w2\"],\n",
        "    lora_dropout=0.05,\n",
        "    task_type=\"CAUSAL_LM\"\n",
        ")\n",
        "\n",
        "# Load model\n",
        "tokenizer = AutoTokenizer.from_pretrained(model_id)\n",
        "bnb_config = BitsAndBytesConfig(\n",
        "    load_in_4bit=True,\n",
        "    bnb_4bit_quant_type=\"nf4\",\n",
        "    bnb_4bit_compute_dtype=torch.float16,\n",
        "    bnb_4bit_use_double_quant=True  # Added nested quantization\n",
        ")\n",
        "\n",
        "model = AutoModelForCausalLM.from_pretrained(\n",
        "    model_id,\n",
        "    quantization_config=bnb_config,\n",
        "    device_map=\"auto\",\n",
        "    low_cpu_mem_usage=True,\n",
        "    trust_remote_code=True\n",
        ")\n",
        "\n",
        "# Training setup\n",
        "training_args = TrainingArguments(\n",
        "    output_dir=\"./results\",\n",
        "    per_device_train_batch_size=2,\n",
        "    gradient_accumulation_steps=4,\n",
        "    learning_rate=2e-5,\n",
        "    max_grad_norm=0.3,\n",
        "    num_train_epochs=2,\n",
        "    fp16=True,\n",
        "    logging_steps=10,\n",
        "    optim=\"paged_adamw_8bit\",\n",
        "    report_to=\"none\"\n",
        ")\n",
        "\n",
        "trainer = SFTTrainer(\n",
        "    model=model,\n",
        "    args=training_args,\n",
        "    train_dataset=dataset[\"train\"],\n",
        "    peft_config=peft_config,\n",
        "    formatting_func=lambda x: f\"<|im_start|>user\\n{x['question']}<|im_end|>\\n<|im_start|>assistant\\n{x['answer']}<|im_end|>\"\n",
        ")\n",
        "\n",
        "# Start training\n",
        "trainer.train()\n",
        "trainer.save_model(\"/content/finetuned_qwen\")"
      ]
    },
    {
      "cell_type": "code",
      "execution_count": null,
      "metadata": {
        "id": "Wgof_SnIGN17"
      },
      "outputs": [],
      "source": [
        "from evaluate import load\n",
        "import numpy as np\n",
        "\n",
        "rouge = load(\"rouge\")\n",
        "\n",
        "def evaluate(model_path):\n",
        "    llm = load_model()\n",
        "    test_questions = [ex[\"question\"] for ex in val_data]\n",
        "    predictions = [query_model(q, llm) for q in test_questions]\n",
        "    references = [ex[\"answer\"] for ex in val_data]\n",
        "\n",
        "    rouge_score = rouge.compute(\n",
        "        predictions=predictions,\n",
        "        references=references,\n",
        "        rouge_types=[\"rougeL\"]\n",
        "    )\n",
        "\n",
        "    return {\n",
        "        \"rougeL\": round(rouge_score[\"rougeL\"], 3),\n",
        "        \"exact_match\": np.mean([p.strip() == r.strip() for p, r in zip(predictions, references)])\n",
        "    }\n",
        "\n",
        "evaluation_results = evaluate(\"./qwen-3b-finetuned-Q4.gguf\")\n",
        "print(f\"Evaluation Results: {evaluation_results}\")"
      ]
    }
  ],
  "metadata": {
    "accelerator": "GPU",
    "colab": {
      "gpuType": "A100",
      "provenance": []
    },
    "kernelspec": {
      "display_name": "Python 3",
      "name": "python3"
    },
    "language_info": {
      "name": "python"
    },
    "widgets": {
      "application/vnd.jupyter.widget-state+json": {
        "164ec06770f4495393943dab5155d55d": {
          "model_module": "@jupyter-widgets/controls",
          "model_module_version": "1.5.0",
          "model_name": "DescriptionStyleModel",
          "state": {
            "_model_module": "@jupyter-widgets/controls",
            "_model_module_version": "1.5.0",
            "_model_name": "DescriptionStyleModel",
            "_view_count": null,
            "_view_module": "@jupyter-widgets/base",
            "_view_module_version": "1.2.0",
            "_view_name": "StyleView",
            "description_width": ""
          }
        },
        "238138bc900c407387abaa6469bb713e": {
          "model_module": "@jupyter-widgets/base",
          "model_module_version": "1.2.0",
          "model_name": "LayoutModel",
          "state": {
            "_model_module": "@jupyter-widgets/base",
            "_model_module_version": "1.2.0",
            "_model_name": "LayoutModel",
            "_view_count": null,
            "_view_module": "@jupyter-widgets/base",
            "_view_module_version": "1.2.0",
            "_view_name": "LayoutView",
            "align_content": null,
            "align_items": null,
            "align_self": null,
            "border": null,
            "bottom": null,
            "display": null,
            "flex": null,
            "flex_flow": null,
            "grid_area": null,
            "grid_auto_columns": null,
            "grid_auto_flow": null,
            "grid_auto_rows": null,
            "grid_column": null,
            "grid_gap": null,
            "grid_row": null,
            "grid_template_areas": null,
            "grid_template_columns": null,
            "grid_template_rows": null,
            "height": null,
            "justify_content": null,
            "justify_items": null,
            "left": null,
            "margin": null,
            "max_height": null,
            "max_width": null,
            "min_height": null,
            "min_width": null,
            "object_fit": null,
            "object_position": null,
            "order": null,
            "overflow": null,
            "overflow_x": null,
            "overflow_y": null,
            "padding": null,
            "right": null,
            "top": null,
            "visibility": null,
            "width": null
          }
        },
        "25385078933547e9a20918fea1840f92": {
          "model_module": "@jupyter-widgets/base",
          "model_module_version": "1.2.0",
          "model_name": "LayoutModel",
          "state": {
            "_model_module": "@jupyter-widgets/base",
            "_model_module_version": "1.2.0",
            "_model_name": "LayoutModel",
            "_view_count": null,
            "_view_module": "@jupyter-widgets/base",
            "_view_module_version": "1.2.0",
            "_view_name": "LayoutView",
            "align_content": null,
            "align_items": null,
            "align_self": null,
            "border": null,
            "bottom": null,
            "display": null,
            "flex": null,
            "flex_flow": null,
            "grid_area": null,
            "grid_auto_columns": null,
            "grid_auto_flow": null,
            "grid_auto_rows": null,
            "grid_column": null,
            "grid_gap": null,
            "grid_row": null,
            "grid_template_areas": null,
            "grid_template_columns": null,
            "grid_template_rows": null,
            "height": null,
            "justify_content": null,
            "justify_items": null,
            "left": null,
            "margin": null,
            "max_height": null,
            "max_width": null,
            "min_height": null,
            "min_width": null,
            "object_fit": null,
            "object_position": null,
            "order": null,
            "overflow": null,
            "overflow_x": null,
            "overflow_y": null,
            "padding": null,
            "right": null,
            "top": null,
            "visibility": null,
            "width": null
          }
        },
        "2a9c8c88bb05452d84991682af1552b4": {
          "model_module": "@jupyter-widgets/base",
          "model_module_version": "1.2.0",
          "model_name": "LayoutModel",
          "state": {
            "_model_module": "@jupyter-widgets/base",
            "_model_module_version": "1.2.0",
            "_model_name": "LayoutModel",
            "_view_count": null,
            "_view_module": "@jupyter-widgets/base",
            "_view_module_version": "1.2.0",
            "_view_name": "LayoutView",
            "align_content": null,
            "align_items": null,
            "align_self": null,
            "border": null,
            "bottom": null,
            "display": null,
            "flex": null,
            "flex_flow": null,
            "grid_area": null,
            "grid_auto_columns": null,
            "grid_auto_flow": null,
            "grid_auto_rows": null,
            "grid_column": null,
            "grid_gap": null,
            "grid_row": null,
            "grid_template_areas": null,
            "grid_template_columns": null,
            "grid_template_rows": null,
            "height": null,
            "justify_content": null,
            "justify_items": null,
            "left": null,
            "margin": null,
            "max_height": null,
            "max_width": null,
            "min_height": null,
            "min_width": null,
            "object_fit": null,
            "object_position": null,
            "order": null,
            "overflow": null,
            "overflow_x": null,
            "overflow_y": null,
            "padding": null,
            "right": null,
            "top": null,
            "visibility": null,
            "width": null
          }
        },
        "32b5d5e41b924cdcb43a3ef6cedffc95": {
          "model_module": "@jupyter-widgets/controls",
          "model_module_version": "1.5.0",
          "model_name": "HBoxModel",
          "state": {
            "_dom_classes": [],
            "_model_module": "@jupyter-widgets/controls",
            "_model_module_version": "1.5.0",
            "_model_name": "HBoxModel",
            "_view_count": null,
            "_view_module": "@jupyter-widgets/controls",
            "_view_module_version": "1.5.0",
            "_view_name": "HBoxView",
            "box_style": "",
            "children": [
              "IPY_MODEL_342e8f3bc77f40a080d91e5feb198126",
              "IPY_MODEL_ebaaa03fc47e4ae0883741b90b5ed560",
              "IPY_MODEL_8f380109989b48acb79aafc2add4aee0"
            ],
            "layout": "IPY_MODEL_25385078933547e9a20918fea1840f92"
          }
        },
        "342e8f3bc77f40a080d91e5feb198126": {
          "model_module": "@jupyter-widgets/controls",
          "model_module_version": "1.5.0",
          "model_name": "HTMLModel",
          "state": {
            "_dom_classes": [],
            "_model_module": "@jupyter-widgets/controls",
            "_model_module_version": "1.5.0",
            "_model_name": "HTMLModel",
            "_view_count": null,
            "_view_module": "@jupyter-widgets/controls",
            "_view_module_version": "1.5.0",
            "_view_name": "HTMLView",
            "description": "",
            "description_tooltip": null,
            "layout": "IPY_MODEL_b68e6ad4ffbc474f810da50d9dad5d77",
            "placeholder": "​",
            "style": "IPY_MODEL_87d99c3e5a444f4c907c3b3167133901",
            "value": "Loading checkpoint shards: 100%"
          }
        },
        "4237f5e8fbd04c9992a7943e14986faf": {
          "model_module": "@jupyter-widgets/base",
          "model_module_version": "1.2.0",
          "model_name": "LayoutModel",
          "state": {
            "_model_module": "@jupyter-widgets/base",
            "_model_module_version": "1.2.0",
            "_model_name": "LayoutModel",
            "_view_count": null,
            "_view_module": "@jupyter-widgets/base",
            "_view_module_version": "1.2.0",
            "_view_name": "LayoutView",
            "align_content": null,
            "align_items": null,
            "align_self": null,
            "border": null,
            "bottom": null,
            "display": null,
            "flex": null,
            "flex_flow": null,
            "grid_area": null,
            "grid_auto_columns": null,
            "grid_auto_flow": null,
            "grid_auto_rows": null,
            "grid_column": null,
            "grid_gap": null,
            "grid_row": null,
            "grid_template_areas": null,
            "grid_template_columns": null,
            "grid_template_rows": null,
            "height": null,
            "justify_content": null,
            "justify_items": null,
            "left": null,
            "margin": null,
            "max_height": null,
            "max_width": null,
            "min_height": null,
            "min_width": null,
            "object_fit": null,
            "object_position": null,
            "order": null,
            "overflow": null,
            "overflow_x": null,
            "overflow_y": null,
            "padding": null,
            "right": null,
            "top": null,
            "visibility": null,
            "width": null
          }
        },
        "43ca0d58d10e4f6cb5aea5f5ab6ad2c8": {
          "model_module": "@jupyter-widgets/base",
          "model_module_version": "1.2.0",
          "model_name": "LayoutModel",
          "state": {
            "_model_module": "@jupyter-widgets/base",
            "_model_module_version": "1.2.0",
            "_model_name": "LayoutModel",
            "_view_count": null,
            "_view_module": "@jupyter-widgets/base",
            "_view_module_version": "1.2.0",
            "_view_name": "LayoutView",
            "align_content": null,
            "align_items": null,
            "align_self": null,
            "border": null,
            "bottom": null,
            "display": null,
            "flex": null,
            "flex_flow": null,
            "grid_area": null,
            "grid_auto_columns": null,
            "grid_auto_flow": null,
            "grid_auto_rows": null,
            "grid_column": null,
            "grid_gap": null,
            "grid_row": null,
            "grid_template_areas": null,
            "grid_template_columns": null,
            "grid_template_rows": null,
            "height": null,
            "justify_content": null,
            "justify_items": null,
            "left": null,
            "margin": null,
            "max_height": null,
            "max_width": null,
            "min_height": null,
            "min_width": null,
            "object_fit": null,
            "object_position": null,
            "order": null,
            "overflow": null,
            "overflow_x": null,
            "overflow_y": null,
            "padding": null,
            "right": null,
            "top": null,
            "visibility": null,
            "width": null
          }
        },
        "4d6395b04b00418b9dedb0e0f8f04f06": {
          "model_module": "@jupyter-widgets/base",
          "model_module_version": "1.2.0",
          "model_name": "LayoutModel",
          "state": {
            "_model_module": "@jupyter-widgets/base",
            "_model_module_version": "1.2.0",
            "_model_name": "LayoutModel",
            "_view_count": null,
            "_view_module": "@jupyter-widgets/base",
            "_view_module_version": "1.2.0",
            "_view_name": "LayoutView",
            "align_content": null,
            "align_items": null,
            "align_self": null,
            "border": null,
            "bottom": null,
            "display": null,
            "flex": null,
            "flex_flow": null,
            "grid_area": null,
            "grid_auto_columns": null,
            "grid_auto_flow": null,
            "grid_auto_rows": null,
            "grid_column": null,
            "grid_gap": null,
            "grid_row": null,
            "grid_template_areas": null,
            "grid_template_columns": null,
            "grid_template_rows": null,
            "height": null,
            "justify_content": null,
            "justify_items": null,
            "left": null,
            "margin": null,
            "max_height": null,
            "max_width": null,
            "min_height": null,
            "min_width": null,
            "object_fit": null,
            "object_position": null,
            "order": null,
            "overflow": null,
            "overflow_x": null,
            "overflow_y": null,
            "padding": null,
            "right": null,
            "top": null,
            "visibility": null,
            "width": null
          }
        },
        "5bb970d088ad4ec1aa913eb37bdd8a64": {
          "model_module": "@jupyter-widgets/controls",
          "model_module_version": "1.5.0",
          "model_name": "DescriptionStyleModel",
          "state": {
            "_model_module": "@jupyter-widgets/controls",
            "_model_module_version": "1.5.0",
            "_model_name": "DescriptionStyleModel",
            "_view_count": null,
            "_view_module": "@jupyter-widgets/base",
            "_view_module_version": "1.2.0",
            "_view_name": "StyleView",
            "description_width": ""
          }
        },
        "636877c52dc6411abb6f8745a715aefe": {
          "model_module": "@jupyter-widgets/controls",
          "model_module_version": "1.5.0",
          "model_name": "HTMLModel",
          "state": {
            "_dom_classes": [],
            "_model_module": "@jupyter-widgets/controls",
            "_model_module_version": "1.5.0",
            "_model_name": "HTMLModel",
            "_view_count": null,
            "_view_module": "@jupyter-widgets/controls",
            "_view_module_version": "1.5.0",
            "_view_name": "HTMLView",
            "description": "",
            "description_tooltip": null,
            "layout": "IPY_MODEL_238138bc900c407387abaa6469bb713e",
            "placeholder": "​",
            "style": "IPY_MODEL_dd990ccc5993462a96d8342a7b1943c3",
            "value": "Map: 100%"
          }
        },
        "6f343f9481974110b3b9a54dba3aa038": {
          "model_module": "@jupyter-widgets/controls",
          "model_module_version": "1.5.0",
          "model_name": "DescriptionStyleModel",
          "state": {
            "_model_module": "@jupyter-widgets/controls",
            "_model_module_version": "1.5.0",
            "_model_name": "DescriptionStyleModel",
            "_view_count": null,
            "_view_module": "@jupyter-widgets/base",
            "_view_module_version": "1.2.0",
            "_view_name": "StyleView",
            "description_width": ""
          }
        },
        "720da530aad04412b208ac806fb75793": {
          "model_module": "@jupyter-widgets/controls",
          "model_module_version": "1.5.0",
          "model_name": "FloatProgressModel",
          "state": {
            "_dom_classes": [],
            "_model_module": "@jupyter-widgets/controls",
            "_model_module_version": "1.5.0",
            "_model_name": "FloatProgressModel",
            "_view_count": null,
            "_view_module": "@jupyter-widgets/controls",
            "_view_module_version": "1.5.0",
            "_view_name": "ProgressView",
            "bar_style": "success",
            "description": "",
            "description_tooltip": null,
            "layout": "IPY_MODEL_c2e93929ea2545f584ecb31f13c5b98f",
            "max": 52,
            "min": 0,
            "orientation": "horizontal",
            "style": "IPY_MODEL_ce8547a518984f1f9fa7bf510e18e8dc",
            "value": 52
          }
        },
        "7503bc9a466d425684b2ba7511a813a0": {
          "model_module": "@jupyter-widgets/controls",
          "model_module_version": "1.5.0",
          "model_name": "ProgressStyleModel",
          "state": {
            "_model_module": "@jupyter-widgets/controls",
            "_model_module_version": "1.5.0",
            "_model_name": "ProgressStyleModel",
            "_view_count": null,
            "_view_module": "@jupyter-widgets/base",
            "_view_module_version": "1.2.0",
            "_view_name": "StyleView",
            "bar_color": null,
            "description_width": ""
          }
        },
        "75eddbe7ee974a23869197fc648a2796": {
          "model_module": "@jupyter-widgets/controls",
          "model_module_version": "1.5.0",
          "model_name": "HTMLModel",
          "state": {
            "_dom_classes": [],
            "_model_module": "@jupyter-widgets/controls",
            "_model_module_version": "1.5.0",
            "_model_name": "HTMLModel",
            "_view_count": null,
            "_view_module": "@jupyter-widgets/controls",
            "_view_module_version": "1.5.0",
            "_view_name": "HTMLView",
            "description": "",
            "description_tooltip": null,
            "layout": "IPY_MODEL_4237f5e8fbd04c9992a7943e14986faf",
            "placeholder": "​",
            "style": "IPY_MODEL_6f343f9481974110b3b9a54dba3aa038",
            "value": " 206/206 [00:16&lt;00:00,  1.18 examples/s]"
          }
        },
        "7926638b6aa14ddf9ce77f7fb73dc599": {
          "model_module": "@jupyter-widgets/controls",
          "model_module_version": "1.5.0",
          "model_name": "HTMLModel",
          "state": {
            "_dom_classes": [],
            "_model_module": "@jupyter-widgets/controls",
            "_model_module_version": "1.5.0",
            "_model_name": "HTMLModel",
            "_view_count": null,
            "_view_module": "@jupyter-widgets/controls",
            "_view_module_version": "1.5.0",
            "_view_name": "HTMLView",
            "description": "",
            "description_tooltip": null,
            "layout": "IPY_MODEL_43ca0d58d10e4f6cb5aea5f5ab6ad2c8",
            "placeholder": "​",
            "style": "IPY_MODEL_5bb970d088ad4ec1aa913eb37bdd8a64",
            "value": "Map: 100%"
          }
        },
        "8014597f21f041a0aefad9c1dd20f954": {
          "model_module": "@jupyter-widgets/controls",
          "model_module_version": "1.5.0",
          "model_name": "HTMLModel",
          "state": {
            "_dom_classes": [],
            "_model_module": "@jupyter-widgets/controls",
            "_model_module_version": "1.5.0",
            "_model_name": "HTMLModel",
            "_view_count": null,
            "_view_module": "@jupyter-widgets/controls",
            "_view_module_version": "1.5.0",
            "_view_name": "HTMLView",
            "description": "",
            "description_tooltip": null,
            "layout": "IPY_MODEL_899b360c1dbb4853ac82c14c026a0200",
            "placeholder": "​",
            "style": "IPY_MODEL_bceab5ba892245e5aedd739b9e352396",
            "value": " 52/52 [00:04&lt;00:00, 46.57 examples/s]"
          }
        },
        "87d99c3e5a444f4c907c3b3167133901": {
          "model_module": "@jupyter-widgets/controls",
          "model_module_version": "1.5.0",
          "model_name": "DescriptionStyleModel",
          "state": {
            "_model_module": "@jupyter-widgets/controls",
            "_model_module_version": "1.5.0",
            "_model_name": "DescriptionStyleModel",
            "_view_count": null,
            "_view_module": "@jupyter-widgets/base",
            "_view_module_version": "1.2.0",
            "_view_name": "StyleView",
            "description_width": ""
          }
        },
        "899b360c1dbb4853ac82c14c026a0200": {
          "model_module": "@jupyter-widgets/base",
          "model_module_version": "1.2.0",
          "model_name": "LayoutModel",
          "state": {
            "_model_module": "@jupyter-widgets/base",
            "_model_module_version": "1.2.0",
            "_model_name": "LayoutModel",
            "_view_count": null,
            "_view_module": "@jupyter-widgets/base",
            "_view_module_version": "1.2.0",
            "_view_name": "LayoutView",
            "align_content": null,
            "align_items": null,
            "align_self": null,
            "border": null,
            "bottom": null,
            "display": null,
            "flex": null,
            "flex_flow": null,
            "grid_area": null,
            "grid_auto_columns": null,
            "grid_auto_flow": null,
            "grid_auto_rows": null,
            "grid_column": null,
            "grid_gap": null,
            "grid_row": null,
            "grid_template_areas": null,
            "grid_template_columns": null,
            "grid_template_rows": null,
            "height": null,
            "justify_content": null,
            "justify_items": null,
            "left": null,
            "margin": null,
            "max_height": null,
            "max_width": null,
            "min_height": null,
            "min_width": null,
            "object_fit": null,
            "object_position": null,
            "order": null,
            "overflow": null,
            "overflow_x": null,
            "overflow_y": null,
            "padding": null,
            "right": null,
            "top": null,
            "visibility": null,
            "width": null
          }
        },
        "8f380109989b48acb79aafc2add4aee0": {
          "model_module": "@jupyter-widgets/controls",
          "model_module_version": "1.5.0",
          "model_name": "HTMLModel",
          "state": {
            "_dom_classes": [],
            "_model_module": "@jupyter-widgets/controls",
            "_model_module_version": "1.5.0",
            "_model_name": "HTMLModel",
            "_view_count": null,
            "_view_module": "@jupyter-widgets/controls",
            "_view_module_version": "1.5.0",
            "_view_name": "HTMLView",
            "description": "",
            "description_tooltip": null,
            "layout": "IPY_MODEL_2a9c8c88bb05452d84991682af1552b4",
            "placeholder": "​",
            "style": "IPY_MODEL_164ec06770f4495393943dab5155d55d",
            "value": " 2/2 [00:04&lt;00:00,  2.37s/it]"
          }
        },
        "9260359d3ddd494c9b0d37171f792e7e": {
          "model_module": "@jupyter-widgets/controls",
          "model_module_version": "1.5.0",
          "model_name": "HBoxModel",
          "state": {
            "_dom_classes": [],
            "_model_module": "@jupyter-widgets/controls",
            "_model_module_version": "1.5.0",
            "_model_name": "HBoxModel",
            "_view_count": null,
            "_view_module": "@jupyter-widgets/controls",
            "_view_module_version": "1.5.0",
            "_view_name": "HBoxView",
            "box_style": "",
            "children": [
              "IPY_MODEL_7926638b6aa14ddf9ce77f7fb73dc599",
              "IPY_MODEL_720da530aad04412b208ac806fb75793",
              "IPY_MODEL_8014597f21f041a0aefad9c1dd20f954"
            ],
            "layout": "IPY_MODEL_ddc8c06d97d04773886b7aa2377197d3"
          }
        },
        "a4db1bf6812b4371a0635d92761c4c31": {
          "model_module": "@jupyter-widgets/controls",
          "model_module_version": "1.5.0",
          "model_name": "HBoxModel",
          "state": {
            "_dom_classes": [],
            "_model_module": "@jupyter-widgets/controls",
            "_model_module_version": "1.5.0",
            "_model_name": "HBoxModel",
            "_view_count": null,
            "_view_module": "@jupyter-widgets/controls",
            "_view_module_version": "1.5.0",
            "_view_name": "HBoxView",
            "box_style": "",
            "children": [
              "IPY_MODEL_636877c52dc6411abb6f8745a715aefe",
              "IPY_MODEL_d4274c84869744aab93fd33c4e377c2e",
              "IPY_MODEL_75eddbe7ee974a23869197fc648a2796"
            ],
            "layout": "IPY_MODEL_ff389709a9a44465a5d95933e2c745f4"
          }
        },
        "aa832535d8b749bda627031f09a7a0cf": {
          "model_module": "@jupyter-widgets/base",
          "model_module_version": "1.2.0",
          "model_name": "LayoutModel",
          "state": {
            "_model_module": "@jupyter-widgets/base",
            "_model_module_version": "1.2.0",
            "_model_name": "LayoutModel",
            "_view_count": null,
            "_view_module": "@jupyter-widgets/base",
            "_view_module_version": "1.2.0",
            "_view_name": "LayoutView",
            "align_content": null,
            "align_items": null,
            "align_self": null,
            "border": null,
            "bottom": null,
            "display": null,
            "flex": null,
            "flex_flow": null,
            "grid_area": null,
            "grid_auto_columns": null,
            "grid_auto_flow": null,
            "grid_auto_rows": null,
            "grid_column": null,
            "grid_gap": null,
            "grid_row": null,
            "grid_template_areas": null,
            "grid_template_columns": null,
            "grid_template_rows": null,
            "height": null,
            "justify_content": null,
            "justify_items": null,
            "left": null,
            "margin": null,
            "max_height": null,
            "max_width": null,
            "min_height": null,
            "min_width": null,
            "object_fit": null,
            "object_position": null,
            "order": null,
            "overflow": null,
            "overflow_x": null,
            "overflow_y": null,
            "padding": null,
            "right": null,
            "top": null,
            "visibility": null,
            "width": null
          }
        },
        "b68e6ad4ffbc474f810da50d9dad5d77": {
          "model_module": "@jupyter-widgets/base",
          "model_module_version": "1.2.0",
          "model_name": "LayoutModel",
          "state": {
            "_model_module": "@jupyter-widgets/base",
            "_model_module_version": "1.2.0",
            "_model_name": "LayoutModel",
            "_view_count": null,
            "_view_module": "@jupyter-widgets/base",
            "_view_module_version": "1.2.0",
            "_view_name": "LayoutView",
            "align_content": null,
            "align_items": null,
            "align_self": null,
            "border": null,
            "bottom": null,
            "display": null,
            "flex": null,
            "flex_flow": null,
            "grid_area": null,
            "grid_auto_columns": null,
            "grid_auto_flow": null,
            "grid_auto_rows": null,
            "grid_column": null,
            "grid_gap": null,
            "grid_row": null,
            "grid_template_areas": null,
            "grid_template_columns": null,
            "grid_template_rows": null,
            "height": null,
            "justify_content": null,
            "justify_items": null,
            "left": null,
            "margin": null,
            "max_height": null,
            "max_width": null,
            "min_height": null,
            "min_width": null,
            "object_fit": null,
            "object_position": null,
            "order": null,
            "overflow": null,
            "overflow_x": null,
            "overflow_y": null,
            "padding": null,
            "right": null,
            "top": null,
            "visibility": null,
            "width": null
          }
        },
        "bceab5ba892245e5aedd739b9e352396": {
          "model_module": "@jupyter-widgets/controls",
          "model_module_version": "1.5.0",
          "model_name": "DescriptionStyleModel",
          "state": {
            "_model_module": "@jupyter-widgets/controls",
            "_model_module_version": "1.5.0",
            "_model_name": "DescriptionStyleModel",
            "_view_count": null,
            "_view_module": "@jupyter-widgets/base",
            "_view_module_version": "1.2.0",
            "_view_name": "StyleView",
            "description_width": ""
          }
        },
        "c2e93929ea2545f584ecb31f13c5b98f": {
          "model_module": "@jupyter-widgets/base",
          "model_module_version": "1.2.0",
          "model_name": "LayoutModel",
          "state": {
            "_model_module": "@jupyter-widgets/base",
            "_model_module_version": "1.2.0",
            "_model_name": "LayoutModel",
            "_view_count": null,
            "_view_module": "@jupyter-widgets/base",
            "_view_module_version": "1.2.0",
            "_view_name": "LayoutView",
            "align_content": null,
            "align_items": null,
            "align_self": null,
            "border": null,
            "bottom": null,
            "display": null,
            "flex": null,
            "flex_flow": null,
            "grid_area": null,
            "grid_auto_columns": null,
            "grid_auto_flow": null,
            "grid_auto_rows": null,
            "grid_column": null,
            "grid_gap": null,
            "grid_row": null,
            "grid_template_areas": null,
            "grid_template_columns": null,
            "grid_template_rows": null,
            "height": null,
            "justify_content": null,
            "justify_items": null,
            "left": null,
            "margin": null,
            "max_height": null,
            "max_width": null,
            "min_height": null,
            "min_width": null,
            "object_fit": null,
            "object_position": null,
            "order": null,
            "overflow": null,
            "overflow_x": null,
            "overflow_y": null,
            "padding": null,
            "right": null,
            "top": null,
            "visibility": null,
            "width": null
          }
        },
        "ce8547a518984f1f9fa7bf510e18e8dc": {
          "model_module": "@jupyter-widgets/controls",
          "model_module_version": "1.5.0",
          "model_name": "ProgressStyleModel",
          "state": {
            "_model_module": "@jupyter-widgets/controls",
            "_model_module_version": "1.5.0",
            "_model_name": "ProgressStyleModel",
            "_view_count": null,
            "_view_module": "@jupyter-widgets/base",
            "_view_module_version": "1.2.0",
            "_view_name": "StyleView",
            "bar_color": null,
            "description_width": ""
          }
        },
        "d4274c84869744aab93fd33c4e377c2e": {
          "model_module": "@jupyter-widgets/controls",
          "model_module_version": "1.5.0",
          "model_name": "FloatProgressModel",
          "state": {
            "_dom_classes": [],
            "_model_module": "@jupyter-widgets/controls",
            "_model_module_version": "1.5.0",
            "_model_name": "FloatProgressModel",
            "_view_count": null,
            "_view_module": "@jupyter-widgets/controls",
            "_view_module_version": "1.5.0",
            "_view_name": "ProgressView",
            "bar_style": "success",
            "description": "",
            "description_tooltip": null,
            "layout": "IPY_MODEL_aa832535d8b749bda627031f09a7a0cf",
            "max": 206,
            "min": 0,
            "orientation": "horizontal",
            "style": "IPY_MODEL_f95224f207b64295820399829160d643",
            "value": 206
          }
        },
        "dd990ccc5993462a96d8342a7b1943c3": {
          "model_module": "@jupyter-widgets/controls",
          "model_module_version": "1.5.0",
          "model_name": "DescriptionStyleModel",
          "state": {
            "_model_module": "@jupyter-widgets/controls",
            "_model_module_version": "1.5.0",
            "_model_name": "DescriptionStyleModel",
            "_view_count": null,
            "_view_module": "@jupyter-widgets/base",
            "_view_module_version": "1.2.0",
            "_view_name": "StyleView",
            "description_width": ""
          }
        },
        "ddc8c06d97d04773886b7aa2377197d3": {
          "model_module": "@jupyter-widgets/base",
          "model_module_version": "1.2.0",
          "model_name": "LayoutModel",
          "state": {
            "_model_module": "@jupyter-widgets/base",
            "_model_module_version": "1.2.0",
            "_model_name": "LayoutModel",
            "_view_count": null,
            "_view_module": "@jupyter-widgets/base",
            "_view_module_version": "1.2.0",
            "_view_name": "LayoutView",
            "align_content": null,
            "align_items": null,
            "align_self": null,
            "border": null,
            "bottom": null,
            "display": null,
            "flex": null,
            "flex_flow": null,
            "grid_area": null,
            "grid_auto_columns": null,
            "grid_auto_flow": null,
            "grid_auto_rows": null,
            "grid_column": null,
            "grid_gap": null,
            "grid_row": null,
            "grid_template_areas": null,
            "grid_template_columns": null,
            "grid_template_rows": null,
            "height": null,
            "justify_content": null,
            "justify_items": null,
            "left": null,
            "margin": null,
            "max_height": null,
            "max_width": null,
            "min_height": null,
            "min_width": null,
            "object_fit": null,
            "object_position": null,
            "order": null,
            "overflow": null,
            "overflow_x": null,
            "overflow_y": null,
            "padding": null,
            "right": null,
            "top": null,
            "visibility": null,
            "width": null
          }
        },
        "ebaaa03fc47e4ae0883741b90b5ed560": {
          "model_module": "@jupyter-widgets/controls",
          "model_module_version": "1.5.0",
          "model_name": "FloatProgressModel",
          "state": {
            "_dom_classes": [],
            "_model_module": "@jupyter-widgets/controls",
            "_model_module_version": "1.5.0",
            "_model_name": "FloatProgressModel",
            "_view_count": null,
            "_view_module": "@jupyter-widgets/controls",
            "_view_module_version": "1.5.0",
            "_view_name": "ProgressView",
            "bar_style": "success",
            "description": "",
            "description_tooltip": null,
            "layout": "IPY_MODEL_4d6395b04b00418b9dedb0e0f8f04f06",
            "max": 2,
            "min": 0,
            "orientation": "horizontal",
            "style": "IPY_MODEL_7503bc9a466d425684b2ba7511a813a0",
            "value": 2
          }
        },
        "f95224f207b64295820399829160d643": {
          "model_module": "@jupyter-widgets/controls",
          "model_module_version": "1.5.0",
          "model_name": "ProgressStyleModel",
          "state": {
            "_model_module": "@jupyter-widgets/controls",
            "_model_module_version": "1.5.0",
            "_model_name": "ProgressStyleModel",
            "_view_count": null,
            "_view_module": "@jupyter-widgets/base",
            "_view_module_version": "1.2.0",
            "_view_name": "StyleView",
            "bar_color": null,
            "description_width": ""
          }
        },
        "ff389709a9a44465a5d95933e2c745f4": {
          "model_module": "@jupyter-widgets/base",
          "model_module_version": "1.2.0",
          "model_name": "LayoutModel",
          "state": {
            "_model_module": "@jupyter-widgets/base",
            "_model_module_version": "1.2.0",
            "_model_name": "LayoutModel",
            "_view_count": null,
            "_view_module": "@jupyter-widgets/base",
            "_view_module_version": "1.2.0",
            "_view_name": "LayoutView",
            "align_content": null,
            "align_items": null,
            "align_self": null,
            "border": null,
            "bottom": null,
            "display": null,
            "flex": null,
            "flex_flow": null,
            "grid_area": null,
            "grid_auto_columns": null,
            "grid_auto_flow": null,
            "grid_auto_rows": null,
            "grid_column": null,
            "grid_gap": null,
            "grid_row": null,
            "grid_template_areas": null,
            "grid_template_columns": null,
            "grid_template_rows": null,
            "height": null,
            "justify_content": null,
            "justify_items": null,
            "left": null,
            "margin": null,
            "max_height": null,
            "max_width": null,
            "min_height": null,
            "min_width": null,
            "object_fit": null,
            "object_position": null,
            "order": null,
            "overflow": null,
            "overflow_x": null,
            "overflow_y": null,
            "padding": null,
            "right": null,
            "top": null,
            "visibility": null,
            "width": null
          }
        }
      }
    }
  },
  "nbformat": 4,
  "nbformat_minor": 0
}
